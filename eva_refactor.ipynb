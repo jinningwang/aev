{
 "cells": [
  {
   "cell_type": "code",
   "execution_count": 1,
   "metadata": {},
   "outputs": [],
   "source": [
    "from aev import EVS, EVC"
   ]
  },
  {
   "cell_type": "code",
   "execution_count": 2,
   "metadata": {},
   "outputs": [],
   "source": [
    "evs_config = {'N': 50000, 'Ns': 20,\n",
    "              'Tagc': 4.0, 'socf': 0.2,\n",
    "              'agc': 0, 'ict': 0,\n",
    "              'memory_save': 1,\n",
    "              'seed': 2022, 'r': 0.5}\n",
    "\n",
    "mcs_config = {'ts': 18.0, 'h': 1.0,\n",
    "              'no_tqdm': 0, 'th': 4.0}\n",
    "\n",
    "nd_param = {'soci': {'mu': 0.3, 'var': 0.05, 'lb': 0.2, 'ub': 0.4},\n",
    "            'socd': {'mu': 0.8, 'var': 0.03, 'lb': 0.7, 'ub': 0.9},\n",
    "            'ts1': {'mu': -6.5, 'var': 3.4, 'lb': 0.0, 'ub': 5.5},\n",
    "            'ts2': {'mu': 17.5, 'var': 3.4, 'lb': 5.5, 'ub': 24.0},\n",
    "            'tf1': {'mu': 8.9, 'var': 3.4, 'lb': 0.0, 'ub': 20.9},\n",
    "            'tf2': {'mu': 32.9, 'var': 3.4, 'lb': 20.9, 'ub': 24.0},\n",
    "            'tt': {'mu': 0.5, 'var': 0.02, 'lb': 0, 'ub': 1}}\n",
    "\n",
    "ud_param = {'Pc': {'lb': 5.0, 'ub': 7.0},\n",
    "            'Pd': {'lb': 5.0, 'ub': 7.0},\n",
    "            'nc': {'lb': 0.88, 'ub': 0.95},\n",
    "            'nd': {'lb': 0.88, 'ub': 0.95},\n",
    "            'Q': {'lb': 20.0, 'ub': 30.0}}\n"
   ]
  },
  {
   "cell_type": "code",
   "execution_count": 3,
   "metadata": {},
   "outputs": [
    {
     "name": "stderr",
     "output_type": "stream",
     "text": [
      "Memory save:, EVs out of time range [18.0, 22.0] are dropped.\n",
      "EVS1: Initialized successfully with:\n",
      "Capacity: 50000, r: 0.5\n",
      "EVS1: Clock: 18.005[H], Online: 14477, Total: 23459\n"
     ]
    }
   ],
   "source": [
    "evs = EVS(config=evs_config, mcs_config=mcs_config,\n",
    "          ud_param=ud_param, nd_param=nd_param,\n",
    "          name='EVS1')\n",
    "\n",
    "# --- pointer ---\n",
    "emcs = evs.MCS  # MCS object\n",
    "mdp = evs.MCS.data  # MCS data object\n"
   ]
  },
  {
   "cell_type": "code",
   "execution_count": 4,
   "metadata": {},
   "outputs": [
    {
     "data": {
      "text/plain": [
       "EVS1: Clock: 18.005[H], Online: 14477, Total: 23459"
      ]
     },
     "execution_count": 4,
     "metadata": {},
     "output_type": "execute_result"
    }
   ],
   "source": [
    "evs"
   ]
  },
  {
   "cell_type": "code",
   "execution_count": 5,
   "metadata": {},
   "outputs": [],
   "source": [
    "emcs.config.tf = 18.5"
   ]
  },
  {
   "cell_type": "code",
   "execution_count": 6,
   "metadata": {},
   "outputs": [
    {
     "name": "stdout",
     "output_type": "stream",
     "text": [
      "100%|██████████| 100/100 [00:00<00:00, 171.15%/s]\n"
     ]
    },
    {
     "data": {
      "text/plain": [
       "True"
      ]
     },
     "execution_count": 6,
     "metadata": {},
     "output_type": "execute_result"
    }
   ],
   "source": [
    "emcs.run()"
   ]
  },
  {
   "cell_type": "code",
   "execution_count": 8,
   "metadata": {},
   "outputs": [
    {
     "data": {
      "text/plain": [
       "(<Figure size 660x500 with 1 Axes>,\n",
       " <AxesSubplot:xlabel='Time [s]', ylabel='Power [MW]'>)"
      ]
     },
     "execution_count": 8,
     "metadata": {},
     "output_type": "execute_result"
    },
    {
     "data": {
      "image/png": "[encoded data removed]",
      "text/plain": [
       "<Figure size 660x500 with 1 Axes>"
      ]
     },
     "metadata": {
      "needs_background": "light"
     },
     "output_type": "display_data"
    }
   ],
   "source": [
    "emcs.plot(style=['science', 'ieee'], dpi=200)"
   ]
  }
 ],
 "metadata": {
  "kernelspec": {
   "display_name": "Python 3.9.12 ('andes')",
   "language": "python",
   "name": "python3"
  },
  "language_info": {
   "codemirror_mode": {
    "name": "ipython",
    "version": 3
   },
   "file_extension": ".py",
   "mimetype": "text/x-python",
   "name": "python",
   "nbconvert_exporter": "python",
   "pygments_lexer": "ipython3",
   "version": "3.9.12"
  },
  "orig_nbformat": 4,
  "vscode": {
   "interpreter": {
    "hash": "ef6cb5c8d99d66a3614f491d51fd40cd94c9138687df3d2045e3a510da5efc66"
   }
  }
 },
 "nbformat": 4,
 "nbformat_minor": 2
}
