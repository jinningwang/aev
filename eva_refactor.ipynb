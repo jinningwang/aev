{
 "cells": [
  {
   "cell_type": "code",
   "execution_count": 1,
   "metadata": {},
   "outputs": [],
   "source": [
    "from aev import EVS, EVC"
   ]
  },
  {
   "cell_type": "code",
   "execution_count": 2,
   "metadata": {},
   "outputs": [],
   "source": [
    "evs_config = {'N': 50000, 'Ns': 20,\n",
    "              'Tagc': 4.0, 'socf': 0.2,\n",
    "              'agc': 0, 'ict': 0,\n",
    "              'memory_save': 1,\n",
    "              'seed': 2022, 'r': 0.5}\n",
    "\n",
    "mcs_config = {'ts': 18.0, 'h': 1.0,\n",
    "              'no_tqdm': 0, 'th': 1.0}\n",
    "\n",
    "nd_param = {'soci': {'mu': 0.3, 'var': 0.05, 'lb': 0.2, 'ub': 0.4},\n",
    "            'socd': {'mu': 0.8, 'var': 0.03, 'lb': 0.7, 'ub': 0.9},\n",
    "            'ts1': {'mu': -6.5, 'var': 3.4, 'lb': 0.0, 'ub': 5.5},\n",
    "            'ts2': {'mu': 17.5, 'var': 3.4, 'lb': 5.5, 'ub': 24.0},\n",
    "            'tf1': {'mu': 8.9, 'var': 3.4, 'lb': 0.0, 'ub': 20.9},\n",
    "            'tf2': {'mu': 32.9, 'var': 3.4, 'lb': 20.9, 'ub': 24.0},\n",
    "            'tt': {'mu': 0.5, 'var': 0.02, 'lb': 0, 'ub': 1}}\n",
    "\n",
    "ud_param = {'Pc': {'lb': 5.0, 'ub': 7.0},\n",
    "            'Pd': {'lb': 5.0, 'ub': 7.0},\n",
    "            'nc': {'lb': 0.88, 'ub': 0.95},\n",
    "            'nd': {'lb': 0.88, 'ub': 0.95},\n",
    "            'Q': {'lb': 20.0, 'ub': 30.0}}\n"
   ]
  },
  {
   "cell_type": "code",
   "execution_count": 3,
   "metadata": {},
   "outputs": [
    {
     "name": "stderr",
     "output_type": "stream",
     "text": [
      "Memory save is turned on, EVs out of time range [18.0, 19.0] are dropped.\n"
     ]
    }
   ],
   "source": [
    "evs = EVS(config=evs_config, mcs_config=mcs_config,\n",
    "          ud_param=ud_param, nd_param=nd_param)\n"
   ]
  },
  {
   "cell_type": "code",
   "execution_count": 5,
   "metadata": {},
   "outputs": [
    {
     "data": {
      "text/html": [
       "<div>\n",
       "<style scoped>\n",
       "    .dataframe tbody tr th:only-of-type {\n",
       "        vertical-align: middle;\n",
       "    }\n",
       "\n",
       "    .dataframe tbody tr th {\n",
       "        vertical-align: top;\n",
       "    }\n",
       "\n",
       "    .dataframe thead th {\n",
       "        text-align: right;\n",
       "    }\n",
       "</style>\n",
       "<table border=\"1\" class=\"dataframe\">\n",
       "  <thead>\n",
       "    <tr style=\"text-align: right;\">\n",
       "      <th></th>\n",
       "      <th>idx</th>\n",
       "      <th>u</th>\n",
       "      <th>u0</th>\n",
       "      <th>soc</th>\n",
       "      <th>c</th>\n",
       "      <th>lc</th>\n",
       "      <th>sx</th>\n",
       "      <th>na</th>\n",
       "      <th>ama</th>\n",
       "      <th>agc</th>\n",
       "      <th>...</th>\n",
       "      <th>tt</th>\n",
       "      <th>soc0</th>\n",
       "      <th>na0</th>\n",
       "      <th>soci</th>\n",
       "      <th>socd</th>\n",
       "      <th>Pc</th>\n",
       "      <th>Pd</th>\n",
       "      <th>nc</th>\n",
       "      <th>nd</th>\n",
       "      <th>Q</th>\n",
       "    </tr>\n",
       "  </thead>\n",
       "  <tbody>\n",
       "    <tr>\n",
       "      <th>0</th>\n",
       "      <td>EVS_203</td>\n",
       "      <td>-9.0</td>\n",
       "      <td>-9.0</td>\n",
       "      <td>-9.0</td>\n",
       "      <td>-9.0</td>\n",
       "      <td>-9.0</td>\n",
       "      <td>-9.0</td>\n",
       "      <td>-9.0</td>\n",
       "      <td>-9.0</td>\n",
       "      <td>-9.0</td>\n",
       "      <td>...</td>\n",
       "      <td>0.500947</td>\n",
       "      <td>-9.0</td>\n",
       "      <td>-9.0</td>\n",
       "      <td>0.302260</td>\n",
       "      <td>0.801419</td>\n",
       "      <td>6.037765</td>\n",
       "      <td>6.233732</td>\n",
       "      <td>0.897378</td>\n",
       "      <td>0.897378</td>\n",
       "      <td>22.677257</td>\n",
       "    </tr>\n",
       "    <tr>\n",
       "      <th>1</th>\n",
       "      <td>EVS_625</td>\n",
       "      <td>-9.0</td>\n",
       "      <td>-9.0</td>\n",
       "      <td>-9.0</td>\n",
       "      <td>-9.0</td>\n",
       "      <td>-9.0</td>\n",
       "      <td>-9.0</td>\n",
       "      <td>-9.0</td>\n",
       "      <td>-9.0</td>\n",
       "      <td>-9.0</td>\n",
       "      <td>...</td>\n",
       "      <td>0.528870</td>\n",
       "      <td>-9.0</td>\n",
       "      <td>-9.0</td>\n",
       "      <td>0.365885</td>\n",
       "      <td>0.843227</td>\n",
       "      <td>6.851121</td>\n",
       "      <td>6.677651</td>\n",
       "      <td>0.927386</td>\n",
       "      <td>0.927386</td>\n",
       "      <td>28.134295</td>\n",
       "    </tr>\n",
       "    <tr>\n",
       "      <th>2</th>\n",
       "      <td>EVS_803</td>\n",
       "      <td>-9.0</td>\n",
       "      <td>-9.0</td>\n",
       "      <td>-9.0</td>\n",
       "      <td>-9.0</td>\n",
       "      <td>-9.0</td>\n",
       "      <td>-9.0</td>\n",
       "      <td>-9.0</td>\n",
       "      <td>-9.0</td>\n",
       "      <td>-9.0</td>\n",
       "      <td>...</td>\n",
       "      <td>0.522717</td>\n",
       "      <td>-9.0</td>\n",
       "      <td>-9.0</td>\n",
       "      <td>0.352920</td>\n",
       "      <td>0.834029</td>\n",
       "      <td>6.743976</td>\n",
       "      <td>6.738199</td>\n",
       "      <td>0.913221</td>\n",
       "      <td>0.913221</td>\n",
       "      <td>21.423520</td>\n",
       "    </tr>\n",
       "    <tr>\n",
       "      <th>3</th>\n",
       "      <td>EVS_858</td>\n",
       "      <td>-9.0</td>\n",
       "      <td>-9.0</td>\n",
       "      <td>-9.0</td>\n",
       "      <td>-9.0</td>\n",
       "      <td>-9.0</td>\n",
       "      <td>-9.0</td>\n",
       "      <td>-9.0</td>\n",
       "      <td>-9.0</td>\n",
       "      <td>-9.0</td>\n",
       "      <td>...</td>\n",
       "      <td>0.478551</td>\n",
       "      <td>-9.0</td>\n",
       "      <td>-9.0</td>\n",
       "      <td>0.249876</td>\n",
       "      <td>0.767867</td>\n",
       "      <td>5.283513</td>\n",
       "      <td>6.996706</td>\n",
       "      <td>0.905202</td>\n",
       "      <td>0.905202</td>\n",
       "      <td>21.798313</td>\n",
       "    </tr>\n",
       "    <tr>\n",
       "      <th>4</th>\n",
       "      <td>EVS_1050</td>\n",
       "      <td>-9.0</td>\n",
       "      <td>-9.0</td>\n",
       "      <td>-9.0</td>\n",
       "      <td>-9.0</td>\n",
       "      <td>-9.0</td>\n",
       "      <td>-9.0</td>\n",
       "      <td>-9.0</td>\n",
       "      <td>-9.0</td>\n",
       "      <td>-9.0</td>\n",
       "      <td>...</td>\n",
       "      <td>0.501373</td>\n",
       "      <td>-9.0</td>\n",
       "      <td>-9.0</td>\n",
       "      <td>0.303276</td>\n",
       "      <td>0.802057</td>\n",
       "      <td>6.054725</td>\n",
       "      <td>5.878141</td>\n",
       "      <td>0.916300</td>\n",
       "      <td>0.916300</td>\n",
       "      <td>20.963304</td>\n",
       "    </tr>\n",
       "    <tr>\n",
       "      <th>...</th>\n",
       "      <td>...</td>\n",
       "      <td>...</td>\n",
       "      <td>...</td>\n",
       "      <td>...</td>\n",
       "      <td>...</td>\n",
       "      <td>...</td>\n",
       "      <td>...</td>\n",
       "      <td>...</td>\n",
       "      <td>...</td>\n",
       "      <td>...</td>\n",
       "      <td>...</td>\n",
       "      <td>...</td>\n",
       "      <td>...</td>\n",
       "      <td>...</td>\n",
       "      <td>...</td>\n",
       "      <td>...</td>\n",
       "      <td>...</td>\n",
       "      <td>...</td>\n",
       "      <td>...</td>\n",
       "      <td>...</td>\n",
       "      <td>...</td>\n",
       "    </tr>\n",
       "    <tr>\n",
       "      <th>17368</th>\n",
       "      <td>EVS_49995</td>\n",
       "      <td>-9.0</td>\n",
       "      <td>-9.0</td>\n",
       "      <td>-9.0</td>\n",
       "      <td>-9.0</td>\n",
       "      <td>-9.0</td>\n",
       "      <td>-9.0</td>\n",
       "      <td>-9.0</td>\n",
       "      <td>-9.0</td>\n",
       "      <td>-9.0</td>\n",
       "      <td>...</td>\n",
       "      <td>0.501092</td>\n",
       "      <td>-9.0</td>\n",
       "      <td>-9.0</td>\n",
       "      <td>0.302605</td>\n",
       "      <td>0.801636</td>\n",
       "      <td>6.043531</td>\n",
       "      <td>5.754636</td>\n",
       "      <td>0.936555</td>\n",
       "      <td>0.936555</td>\n",
       "      <td>29.446328</td>\n",
       "    </tr>\n",
       "    <tr>\n",
       "      <th>17369</th>\n",
       "      <td>EVS_49996</td>\n",
       "      <td>-9.0</td>\n",
       "      <td>-9.0</td>\n",
       "      <td>-9.0</td>\n",
       "      <td>-9.0</td>\n",
       "      <td>-9.0</td>\n",
       "      <td>-9.0</td>\n",
       "      <td>-9.0</td>\n",
       "      <td>-9.0</td>\n",
       "      <td>-9.0</td>\n",
       "      <td>...</td>\n",
       "      <td>0.508564</td>\n",
       "      <td>-9.0</td>\n",
       "      <td>-9.0</td>\n",
       "      <td>0.320378</td>\n",
       "      <td>0.812834</td>\n",
       "      <td>6.331492</td>\n",
       "      <td>6.446107</td>\n",
       "      <td>0.925360</td>\n",
       "      <td>0.925360</td>\n",
       "      <td>20.362663</td>\n",
       "    </tr>\n",
       "    <tr>\n",
       "      <th>17370</th>\n",
       "      <td>EVS_49997</td>\n",
       "      <td>-9.0</td>\n",
       "      <td>-9.0</td>\n",
       "      <td>-9.0</td>\n",
       "      <td>-9.0</td>\n",
       "      <td>-9.0</td>\n",
       "      <td>-9.0</td>\n",
       "      <td>-9.0</td>\n",
       "      <td>-9.0</td>\n",
       "      <td>-9.0</td>\n",
       "      <td>...</td>\n",
       "      <td>0.525476</td>\n",
       "      <td>-9.0</td>\n",
       "      <td>-9.0</td>\n",
       "      <td>0.358874</td>\n",
       "      <td>0.838157</td>\n",
       "      <td>6.797274</td>\n",
       "      <td>5.915536</td>\n",
       "      <td>0.930607</td>\n",
       "      <td>0.930607</td>\n",
       "      <td>21.365429</td>\n",
       "    </tr>\n",
       "    <tr>\n",
       "      <th>17371</th>\n",
       "      <td>EVS_49998</td>\n",
       "      <td>-9.0</td>\n",
       "      <td>-9.0</td>\n",
       "      <td>-9.0</td>\n",
       "      <td>-9.0</td>\n",
       "      <td>-9.0</td>\n",
       "      <td>-9.0</td>\n",
       "      <td>-9.0</td>\n",
       "      <td>-9.0</td>\n",
       "      <td>-9.0</td>\n",
       "      <td>...</td>\n",
       "      <td>0.492215</td>\n",
       "      <td>-9.0</td>\n",
       "      <td>-9.0</td>\n",
       "      <td>0.281465</td>\n",
       "      <td>0.788332</td>\n",
       "      <td>5.697076</td>\n",
       "      <td>6.656351</td>\n",
       "      <td>0.937443</td>\n",
       "      <td>0.937443</td>\n",
       "      <td>28.838365</td>\n",
       "    </tr>\n",
       "    <tr>\n",
       "      <th>17372</th>\n",
       "      <td>EVS_49999</td>\n",
       "      <td>-9.0</td>\n",
       "      <td>-9.0</td>\n",
       "      <td>-9.0</td>\n",
       "      <td>-9.0</td>\n",
       "      <td>-9.0</td>\n",
       "      <td>-9.0</td>\n",
       "      <td>-9.0</td>\n",
       "      <td>-9.0</td>\n",
       "      <td>-9.0</td>\n",
       "      <td>...</td>\n",
       "      <td>0.481135</td>\n",
       "      <td>-9.0</td>\n",
       "      <td>-9.0</td>\n",
       "      <td>0.255674</td>\n",
       "      <td>0.771736</td>\n",
       "      <td>5.345558</td>\n",
       "      <td>6.404730</td>\n",
       "      <td>0.886573</td>\n",
       "      <td>0.886573</td>\n",
       "      <td>24.796621</td>\n",
       "    </tr>\n",
       "  </tbody>\n",
       "</table>\n",
       "<p>17373 rows × 24 columns</p>\n",
       "</div>"
      ],
      "text/plain": [
       "             idx    u   u0  soc    c   lc   sx   na  ama  agc  ...        tt  \\\n",
       "0        EVS_203 -9.0 -9.0 -9.0 -9.0 -9.0 -9.0 -9.0 -9.0 -9.0  ...  0.500947   \n",
       "1        EVS_625 -9.0 -9.0 -9.0 -9.0 -9.0 -9.0 -9.0 -9.0 -9.0  ...  0.528870   \n",
       "2        EVS_803 -9.0 -9.0 -9.0 -9.0 -9.0 -9.0 -9.0 -9.0 -9.0  ...  0.522717   \n",
       "3        EVS_858 -9.0 -9.0 -9.0 -9.0 -9.0 -9.0 -9.0 -9.0 -9.0  ...  0.478551   \n",
       "4       EVS_1050 -9.0 -9.0 -9.0 -9.0 -9.0 -9.0 -9.0 -9.0 -9.0  ...  0.501373   \n",
       "...          ...  ...  ...  ...  ...  ...  ...  ...  ...  ...  ...       ...   \n",
       "17368  EVS_49995 -9.0 -9.0 -9.0 -9.0 -9.0 -9.0 -9.0 -9.0 -9.0  ...  0.501092   \n",
       "17369  EVS_49996 -9.0 -9.0 -9.0 -9.0 -9.0 -9.0 -9.0 -9.0 -9.0  ...  0.508564   \n",
       "17370  EVS_49997 -9.0 -9.0 -9.0 -9.0 -9.0 -9.0 -9.0 -9.0 -9.0  ...  0.525476   \n",
       "17371  EVS_49998 -9.0 -9.0 -9.0 -9.0 -9.0 -9.0 -9.0 -9.0 -9.0  ...  0.492215   \n",
       "17372  EVS_49999 -9.0 -9.0 -9.0 -9.0 -9.0 -9.0 -9.0 -9.0 -9.0  ...  0.481135   \n",
       "\n",
       "       soc0  na0      soci      socd        Pc        Pd        nc        nd  \\\n",
       "0      -9.0 -9.0  0.302260  0.801419  6.037765  6.233732  0.897378  0.897378   \n",
       "1      -9.0 -9.0  0.365885  0.843227  6.851121  6.677651  0.927386  0.927386   \n",
       "2      -9.0 -9.0  0.352920  0.834029  6.743976  6.738199  0.913221  0.913221   \n",
       "3      -9.0 -9.0  0.249876  0.767867  5.283513  6.996706  0.905202  0.905202   \n",
       "4      -9.0 -9.0  0.303276  0.802057  6.054725  5.878141  0.916300  0.916300   \n",
       "...     ...  ...       ...       ...       ...       ...       ...       ...   \n",
       "17368  -9.0 -9.0  0.302605  0.801636  6.043531  5.754636  0.936555  0.936555   \n",
       "17369  -9.0 -9.0  0.320378  0.812834  6.331492  6.446107  0.925360  0.925360   \n",
       "17370  -9.0 -9.0  0.358874  0.838157  6.797274  5.915536  0.930607  0.930607   \n",
       "17371  -9.0 -9.0  0.281465  0.788332  5.697076  6.656351  0.937443  0.937443   \n",
       "17372  -9.0 -9.0  0.255674  0.771736  5.345558  6.404730  0.886573  0.886573   \n",
       "\n",
       "               Q  \n",
       "0      22.677257  \n",
       "1      28.134295  \n",
       "2      21.423520  \n",
       "3      21.798313  \n",
       "4      20.963304  \n",
       "...          ...  \n",
       "17368  29.446328  \n",
       "17369  20.362663  \n",
       "17370  21.365429  \n",
       "17371  28.838365  \n",
       "17372  24.796621  \n",
       "\n",
       "[17373 rows x 24 columns]"
      ]
     },
     "execution_count": 5,
     "metadata": {},
     "output_type": "execute_result"
    }
   ],
   "source": [
    "evs.MCS.data.as_df()"
   ]
  },
  {
   "cell_type": "code",
   "execution_count": null,
   "metadata": {},
   "outputs": [],
   "source": []
  },
  {
   "cell_type": "code",
   "execution_count": null,
   "metadata": {},
   "outputs": [],
   "source": [
    "import numpy as np\n",
    "import pandas as pd\n",
    "\n"
   ]
  },
  {
   "cell_type": "code",
   "execution_count": null,
   "metadata": {},
   "outputs": [],
   "source": [
    "from tqdm import tqdm\n",
    "import sys\n",
    "import time\n",
    "import timeit"
   ]
  },
  {
   "cell_type": "code",
   "execution_count": null,
   "metadata": {},
   "outputs": [],
   "source": [
    "sys.version"
   ]
  },
  {
   "cell_type": "code",
   "execution_count": null,
   "metadata": {},
   "outputs": [],
   "source": [
    "evs_config = {'N': 50000, 'Ns': 20,\n",
    "              'Tagc': 4.0, 'socf': 0.2,\n",
    "              'agc': 0, 'ict': 0,\n",
    "              'memory_save': 1,\n",
    "              'seed': 2022, 'r': 0.5}\n",
    "\n",
    "mcs_config = {'ts': 18.0, 'h': 1.0,\n",
    "              'no_tqdm': 0, 'th': 1.0}\n",
    "\n",
    "nd_param = {'soci': {'mu': 0.3, 'var': 0.05, 'lb': 0.2, 'ub': 0.4},\n",
    "            'socd': {'mu': 0.8, 'var': 0.03, 'lb': 0.7, 'ub': 0.9},\n",
    "            'ts1': {'mu': -6.5, 'var': 3.4, 'lb': 0.0, 'ub': 5.5},\n",
    "            'ts2': {'mu': 17.5, 'var': 3.4, 'lb': 5.5, 'ub': 24.0},\n",
    "            'tf1': {'mu': 8.9, 'var': 3.4, 'lb': 0.0, 'ub': 20.9},\n",
    "            'tf2': {'mu': 32.9, 'var': 3.4, 'lb': 20.9, 'ub': 24.0},\n",
    "            'tt': {'mu': 0.5, 'var': 0.02, 'lb': 0, 'ub': 1}}\n",
    "\n",
    "ud_param = {'Pc': {'lb': 5.0, 'ub': 7.0},\n",
    "            'Pd': {'lb': 5.0, 'ub': 7.0},\n",
    "            'nc': {'lb': 0.88, 'ub': 0.95},\n",
    "            'nd': {'lb': 0.88, 'ub': 0.95},\n",
    "            'Q': {'lb': 20.0, 'ub': 30.0}}\n"
   ]
  },
  {
   "cell_type": "code",
   "execution_count": null,
   "metadata": {},
   "outputs": [],
   "source": [
    "import logging\n",
    "logger = logging.getLogger()\n",
    "logging.getLogger(\"eva\").setLevel(logging.INFO)"
   ]
  },
  {
   "cell_type": "code",
   "execution_count": null,
   "metadata": {},
   "outputs": [],
   "source": [
    "evs = EVStation(name='EVS1',\n",
    "                mcs_config=mcs_config,\n",
    "                config=evs_config,\n",
    "                ud_param=ud_param,\n",
    "                nd_param=nd_param)"
   ]
  },
  {
   "cell_type": "code",
   "execution_count": null,
   "metadata": {},
   "outputs": [],
   "source": [
    "evs.MCS.data.s.as_df()['soc0']"
   ]
  },
  {
   "cell_type": "code",
   "execution_count": null,
   "metadata": {},
   "outputs": [],
   "source": [
    "evs.MCS.data.d.as_df()"
   ]
  },
  {
   "cell_type": "code",
   "execution_count": null,
   "metadata": {},
   "outputs": [],
   "source": [
    "sdf = evs.MCS.data.s.as_df()\n",
    "sdf[sdf['tf'] < 18]"
   ]
  },
  {
   "cell_type": "code",
   "execution_count": null,
   "metadata": {},
   "outputs": [],
   "source": [
    "self = evs\n",
    "dsp = self.MCS.data.s  # pointer to static data\n",
    "ddp = self.MCS.data.d  # pointer to dynamic data\n",
    "\n",
    "mask_u1 = dsp.get(src='ts') > (self.MCS.config.ts + self.MCS.config.th)\n",
    "mask_u2 = dsp.get(src='tf') < self.MCS.config.ts\n",
    "mask = mask_u1 | mask_u2\n",
    "drop_id = np.where(mask)[0]\n",
    "\n",
    "for ary in [self.idx, self.MCS.data.idx, self.MCS.data.s.v, self.MCS.data.d.v]:\n",
    "    ary = np.delete(ary, drop_id, axis=0)\n",
    "\n",
    "getattr(self.MCS.data.s, 'idx')\n",
    "setattr(self.MCS.data.s, 'idx', np.delete(self.MCS.data.s.idx, drop_id, axis=0))"
   ]
  },
  {
   "cell_type": "code",
   "execution_count": null,
   "metadata": {},
   "outputs": [],
   "source": [
    "ary.shape"
   ]
  },
  {
   "cell_type": "code",
   "execution_count": null,
   "metadata": {},
   "outputs": [],
   "source": [
    "np.logical_and(mask_u1, mask_u2)"
   ]
  },
  {
   "cell_type": "code",
   "execution_count": null,
   "metadata": {},
   "outputs": [],
   "source": [
    "mask_u1"
   ]
  },
  {
   "cell_type": "code",
   "execution_count": null,
   "metadata": {},
   "outputs": [],
   "source": [
    "mask_u2"
   ]
  },
  {
   "cell_type": "code",
   "execution_count": null,
   "metadata": {},
   "outputs": [],
   "source": [
    "mask_u1 & mask_u2"
   ]
  },
  {
   "cell_type": "code",
   "execution_count": null,
   "metadata": {},
   "outputs": [],
   "source": [
    "evs.MCS.data.d.v.shape"
   ]
  },
  {
   "cell_type": "code",
   "execution_count": null,
   "metadata": {},
   "outputs": [],
   "source": [
    "evs.MCS.data.d.set('soc', cond=np.array([False]*49999 + [True]),\n",
    "                   data=np.array([1, 2]))\n",
    "evs.MCS.data.d.as_df()"
   ]
  },
  {
   "cell_type": "code",
   "execution_count": null,
   "metadata": {},
   "outputs": [],
   "source": [
    "evs.MCS.data.s.get('Pc', cond=np.array([True]*5))"
   ]
  },
  {
   "cell_type": "code",
   "execution_count": null,
   "metadata": {},
   "outputs": [],
   "source": [
    "evs.MCS.data.d.as_df()"
   ]
  },
  {
   "cell_type": "code",
   "execution_count": null,
   "metadata": {},
   "outputs": [],
   "source": [
    "evs.MCS.config.ts"
   ]
  },
  {
   "cell_type": "code",
   "execution_count": null,
   "metadata": {},
   "outputs": [],
   "source": [
    "dsp = evs.MCS.data.s.v\n",
    "mask = dsp[:, getattr(evs.MCS.data.col.s, 'ts')] < 0.3\n",
    "dsp[mask & mask].shape"
   ]
  },
  {
   "cell_type": "code",
   "execution_count": null,
   "metadata": {},
   "outputs": [],
   "source": [
    "evs.MCS.data.s.as_df()"
   ]
  },
  {
   "cell_type": "code",
   "execution_count": null,
   "metadata": {},
   "outputs": [],
   "source": [
    "\n",
    "dc = {'s': ['ts', 'tf', 'tt', 'soc0', 'na0',\n",
    "            'soci', 'socd', 'Pc', 'Pd',\n",
    "            'nc', 'nd', 'Q'],\n",
    "      'd': ['u', 'u0', 'soc', 'c', 'lc', 'sx',\n",
    "            'na', 'ama', 'agc', 'mod']}\n",
    "{\n",
    "'s': {c: dc['s'].index(c) for c in dc['s']},\n",
    "'d': {c: dc['d'].index(c) for c in dc['d']}\n",
    "}\n",
    "\n",
    "from eva import DictAttr\n",
    "sd = DictAttr({c: dc['s'].index(c) for c in dc['s']})\n",
    "dd = DictAttr({c: dc['d'].index(c) for c in dc['d']})\n",
    "dcd = DictAttr({'s': sd, 'd': dd})"
   ]
  },
  {
   "cell_type": "code",
   "execution_count": null,
   "metadata": {},
   "outputs": [],
   "source": [
    "np.empty(100, 100)"
   ]
  },
  {
   "cell_type": "code",
   "execution_count": null,
   "metadata": {},
   "outputs": [],
   "source": [
    "np.arange(50000).shape"
   ]
  },
  {
   "cell_type": "code",
   "execution_count": null,
   "metadata": {},
   "outputs": [],
   "source": [
    "%%timeit -r 100 -n 10\n",
    "dcd.s.Pc"
   ]
  },
  {
   "cell_type": "code",
   "execution_count": null,
   "metadata": {},
   "outputs": [],
   "source": [
    "dcd.d.u0"
   ]
  },
  {
   "cell_type": "code",
   "execution_count": null,
   "metadata": {},
   "outputs": [],
   "source": [
    "xdf = evs.MCS.data.d.copy()\n",
    "xsf = evs.MCS.data.s.copy()"
   ]
  },
  {
   "cell_type": "code",
   "execution_count": null,
   "metadata": {},
   "outputs": [],
   "source": [
    "%%timeit -r 20 -n 20\n",
    "xdf['u'] * xdf['c'] * xsf['Pc'] * xsf['nc'] * 1/3600"
   ]
  },
  {
   "cell_type": "code",
   "execution_count": null,
   "metadata": {},
   "outputs": [],
   "source": [
    "xdf.columns"
   ]
  },
  {
   "cell_type": "code",
   "execution_count": null,
   "metadata": {},
   "outputs": [],
   "source": [
    "xsf.columns"
   ]
  },
  {
   "cell_type": "code",
   "execution_count": null,
   "metadata": {},
   "outputs": [],
   "source": [
    "xd = evs.MCS.data.d.values\n",
    "xs = evs.MCS.data.s.values"
   ]
  },
  {
   "cell_type": "code",
   "execution_count": null,
   "metadata": {},
   "outputs": [],
   "source": [
    "%%timeit -r 20 -n 20\n",
    "xd[:, 1] * xd[:, 4] * xs[:, 8] * xs[:, 10] * 1/3600"
   ]
  },
  {
   "cell_type": "code",
   "execution_count": null,
   "metadata": {},
   "outputs": [],
   "source": [
    "evs = EVStation(name='EVS1',\n",
    "                mcs_config=mcs_config,\n",
    "                config=evs_config,\n",
    "                ud_param=ud_param,\n",
    "                nd_param=nd_param)\n",
    "\n",
    "evs.MCS.config.tf = 3600\n",
    "evs.MCS.config.no_tqdm = 0\n",
    "evs.MCS.run()\n",
    "evs.MCS.data\n",
    "evs.MCS.data.d.info(verbose=False, memory_usage=True)"
   ]
  }
 ],
 "metadata": {
  "kernelspec": {
   "display_name": "Python 3.9.12 ('andes')",
   "language": "python",
   "name": "python3"
  },
  "language_info": {
   "codemirror_mode": {
    "name": "ipython",
    "version": 3
   },
   "file_extension": ".py",
   "mimetype": "text/x-python",
   "name": "python",
   "nbconvert_exporter": "python",
   "pygments_lexer": "ipython3",
   "version": "3.9.12"
  },
  "orig_nbformat": 4,
  "vscode": {
   "interpreter": {
    "hash": "ef6cb5c8d99d66a3614f491d51fd40cd94c9138687df3d2045e3a510da5efc66"
   }
  }
 },
 "nbformat": 4,
 "nbformat_minor": 2
}
