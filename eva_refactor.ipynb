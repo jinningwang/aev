{
 "cells": [
  {
   "cell_type": "code",
   "execution_count": 1,
   "metadata": {},
   "outputs": [],
   "source": [
    "from aev import EVS, EVC"
   ]
  },
  {
   "cell_type": "code",
   "execution_count": 2,
   "metadata": {},
   "outputs": [],
   "source": [
    "evs_config = {'N': 50000, 'Ns': 20,\n",
    "              'Tagc': 4.0, 'socf': 0.2,\n",
    "              'agc': 0, 'ict': 0,\n",
    "              'memory_save': 1,\n",
    "              'seed': 2022, 'r': 0.5}\n",
    "\n",
    "mcs_config = {'ts': 18.0, 'h': 1.0,\n",
    "              'no_tqdm': 0, 'th': 1.0}\n",
    "\n",
    "nd_param = {'soci': {'mu': 0.3, 'var': 0.05, 'lb': 0.2, 'ub': 0.4},\n",
    "            'socd': {'mu': 0.8, 'var': 0.03, 'lb': 0.7, 'ub': 0.9},\n",
    "            'ts1': {'mu': -6.5, 'var': 3.4, 'lb': 0.0, 'ub': 5.5},\n",
    "            'ts2': {'mu': 17.5, 'var': 3.4, 'lb': 5.5, 'ub': 24.0},\n",
    "            'tf1': {'mu': 8.9, 'var': 3.4, 'lb': 0.0, 'ub': 20.9},\n",
    "            'tf2': {'mu': 32.9, 'var': 3.4, 'lb': 20.9, 'ub': 24.0},\n",
    "            'tt': {'mu': 0.5, 'var': 0.02, 'lb': 0, 'ub': 1}}\n",
    "\n",
    "ud_param = {'Pc': {'lb': 5.0, 'ub': 7.0},\n",
    "            'Pd': {'lb': 5.0, 'ub': 7.0},\n",
    "            'nc': {'lb': 0.88, 'ub': 0.95},\n",
    "            'nd': {'lb': 0.88, 'ub': 0.95},\n",
    "            'Q': {'lb': 20.0, 'ub': 30.0}}\n"
   ]
  },
  {
   "cell_type": "code",
   "execution_count": 3,
   "metadata": {},
   "outputs": [
    {
     "name": "stderr",
     "output_type": "stream",
     "text": [
      "Memory save:, EVs out of time range [18.0, 19.0] are dropped.\n",
      "EVS1: Initialized successfully with:\n",
      "Capacity: 50000, r: 0.5\n",
      "EVS1: Clock: 18.0[H], Online: 14477, Total: 17373\n"
     ]
    }
   ],
   "source": [
    "evs = EVS(config=evs_config, mcs_config=mcs_config,\n",
    "          ud_param=ud_param, nd_param=nd_param,\n",
    "          name='EVS1')\n",
    "\n",
    "# --- pointer ---\n",
    "emcs = evs.MCS  # MCS object\n",
    "mdp = evs.MCS.data  # MCS data object\n"
   ]
  },
  {
   "cell_type": "code",
   "execution_count": 4,
   "metadata": {},
   "outputs": [
    {
     "data": {
      "text/plain": [
       "MCS: start at 0.0s, end at 0.0s. Clock begins from 18.0[H]"
      ]
     },
     "execution_count": 4,
     "metadata": {},
     "output_type": "execute_result"
    }
   ],
   "source": [
    "emcs"
   ]
  },
  {
   "cell_type": "code",
   "execution_count": 5,
   "metadata": {},
   "outputs": [
    {
     "data": {
      "text/plain": [
       "EVS1: Clock: 18.0[H], Online: 14477, Total: 17373"
      ]
     },
     "execution_count": 5,
     "metadata": {},
     "output_type": "execute_result"
    }
   ],
   "source": [
    "evs"
   ]
  },
  {
   "cell_type": "code",
   "execution_count": 6,
   "metadata": {},
   "outputs": [
    {
     "data": {
      "text/plain": [
       "array([1., 1., 1., ..., 0., 1., 0.])"
      ]
     },
     "execution_count": 6,
     "metadata": {},
     "output_type": "execute_result"
    }
   ],
   "source": [
    "emcs.g_u()"
   ]
  },
  {
   "cell_type": "code",
   "execution_count": 7,
   "metadata": {},
   "outputs": [
    {
     "data": {
      "text/plain": [
       "array([0., 0., 0., ..., 0., 0., 0.])"
      ]
     },
     "execution_count": 7,
     "metadata": {},
     "output_type": "execute_result"
    }
   ],
   "source": [
    "emcs.g_c()"
   ]
  },
  {
   "cell_type": "code",
   "execution_count": 8,
   "metadata": {},
   "outputs": [],
   "source": [
    "emcs.config.tf = 20.0"
   ]
  },
  {
   "cell_type": "code",
   "execution_count": 9,
   "metadata": {},
   "outputs": [
    {
     "name": "stdout",
     "output_type": "stream",
     "text": [
      "100%|██████████| 100.0/100 [00:00<00:00, 10961.49%/s]\n"
     ]
    },
    {
     "data": {
      "text/plain": [
       "True"
      ]
     },
     "execution_count": 9,
     "metadata": {},
     "output_type": "execute_result"
    }
   ],
   "source": [
    "emcs.run()"
   ]
  },
  {
   "cell_type": "code",
   "execution_count": 10,
   "metadata": {},
   "outputs": [],
   "source": [
    "emcs.config.tf = 100.0"
   ]
  },
  {
   "cell_type": "code",
   "execution_count": 11,
   "metadata": {},
   "outputs": [
    {
     "name": "stdout",
     "output_type": "stream",
     "text": [
      "100%|██████████| 100.0/100 [00:00<00:00, 4082.01%/s]\n"
     ]
    },
    {
     "data": {
      "text/plain": [
       "True"
      ]
     },
     "execution_count": 11,
     "metadata": {},
     "output_type": "execute_result"
    }
   ],
   "source": [
    "emcs.run()"
   ]
  },
  {
   "cell_type": "code",
   "execution_count": 12,
   "metadata": {},
   "outputs": [],
   "source": [
    "emcs.config.tf = 3600.0"
   ]
  },
  {
   "cell_type": "code",
   "execution_count": 13,
   "metadata": {},
   "outputs": [
    {
     "name": "stdout",
     "output_type": "stream",
     "text": [
      "100%|██████████| 100.0/100 [00:00<00:00, 124.24%/s]\n"
     ]
    },
    {
     "data": {
      "text/plain": [
       "True"
      ]
     },
     "execution_count": 13,
     "metadata": {},
     "output_type": "execute_result"
    }
   ],
   "source": [
    "emcs.run()"
   ]
  },
  {
   "cell_type": "code",
   "execution_count": 18,
   "metadata": {},
   "outputs": [
    {
     "data": {
      "text/html": [
       "<div>\n",
       "<style scoped>\n",
       "    .dataframe tbody tr th:only-of-type {\n",
       "        vertical-align: middle;\n",
       "    }\n",
       "\n",
       "    .dataframe tbody tr th {\n",
       "        vertical-align: top;\n",
       "    }\n",
       "\n",
       "    .dataframe thead th {\n",
       "        text-align: right;\n",
       "    }\n",
       "</style>\n",
       "<table border=\"1\" class=\"dataframe\">\n",
       "  <thead>\n",
       "    <tr style=\"text-align: right;\">\n",
       "      <th></th>\n",
       "      <th>u</th>\n",
       "      <th>c</th>\n",
       "      <th>soc</th>\n",
       "      <th>soc0</th>\n",
       "      <th>ts</th>\n",
       "      <th>tf</th>\n",
       "    </tr>\n",
       "  </thead>\n",
       "  <tbody>\n",
       "    <tr>\n",
       "      <th>0</th>\n",
       "      <td>1.0</td>\n",
       "      <td>0.0</td>\n",
       "      <td>1.000000</td>\n",
       "      <td>1.000000</td>\n",
       "      <td>5.411978</td>\n",
       "      <td>19.433863</td>\n",
       "    </tr>\n",
       "    <tr>\n",
       "      <th>1</th>\n",
       "      <td>1.0</td>\n",
       "      <td>0.0</td>\n",
       "      <td>1.000000</td>\n",
       "      <td>1.000000</td>\n",
       "      <td>5.457545</td>\n",
       "      <td>19.964115</td>\n",
       "    </tr>\n",
       "    <tr>\n",
       "      <th>2</th>\n",
       "      <td>1.0</td>\n",
       "      <td>0.0</td>\n",
       "      <td>1.000000</td>\n",
       "      <td>1.000000</td>\n",
       "      <td>5.259210</td>\n",
       "      <td>18.453678</td>\n",
       "    </tr>\n",
       "    <tr>\n",
       "      <th>3</th>\n",
       "      <td>1.0</td>\n",
       "      <td>0.0</td>\n",
       "      <td>1.000000</td>\n",
       "      <td>1.000000</td>\n",
       "      <td>5.413251</td>\n",
       "      <td>19.445908</td>\n",
       "    </tr>\n",
       "    <tr>\n",
       "      <th>4</th>\n",
       "      <td>1.0</td>\n",
       "      <td>0.0</td>\n",
       "      <td>1.000000</td>\n",
       "      <td>1.000000</td>\n",
       "      <td>5.208551</td>\n",
       "      <td>18.231111</td>\n",
       "    </tr>\n",
       "    <tr>\n",
       "      <th>...</th>\n",
       "      <td>...</td>\n",
       "      <td>...</td>\n",
       "      <td>...</td>\n",
       "      <td>...</td>\n",
       "      <td>...</td>\n",
       "      <td>...</td>\n",
       "    </tr>\n",
       "    <tr>\n",
       "      <th>17368</th>\n",
       "      <td>1.0</td>\n",
       "      <td>0.0</td>\n",
       "      <td>0.801657</td>\n",
       "      <td>0.733367</td>\n",
       "      <td>15.758989</td>\n",
       "      <td>22.829240</td>\n",
       "    </tr>\n",
       "    <tr>\n",
       "      <th>17369</th>\n",
       "      <td>1.0</td>\n",
       "      <td>0.0</td>\n",
       "      <td>1.000000</td>\n",
       "      <td>1.000000</td>\n",
       "      <td>12.609995</td>\n",
       "      <td>21.774760</td>\n",
       "    </tr>\n",
       "    <tr>\n",
       "      <th>17370</th>\n",
       "      <td>0.0</td>\n",
       "      <td>0.0</td>\n",
       "      <td>0.358874</td>\n",
       "      <td>0.358874</td>\n",
       "      <td>18.681711</td>\n",
       "      <td>23.545518</td>\n",
       "    </tr>\n",
       "    <tr>\n",
       "      <th>17371</th>\n",
       "      <td>1.0</td>\n",
       "      <td>0.0</td>\n",
       "      <td>0.821765</td>\n",
       "      <td>0.821765</td>\n",
       "      <td>14.794725</td>\n",
       "      <td>22.519450</td>\n",
       "    </tr>\n",
       "    <tr>\n",
       "      <th>17372</th>\n",
       "      <td>0.0</td>\n",
       "      <td>0.0</td>\n",
       "      <td>0.255674</td>\n",
       "      <td>0.255674</td>\n",
       "      <td>18.118045</td>\n",
       "      <td>23.436953</td>\n",
       "    </tr>\n",
       "  </tbody>\n",
       "</table>\n",
       "<p>17373 rows × 6 columns</p>\n",
       "</div>"
      ],
      "text/plain": [
       "         u    c       soc      soc0         ts         tf\n",
       "0      1.0  0.0  1.000000  1.000000   5.411978  19.433863\n",
       "1      1.0  0.0  1.000000  1.000000   5.457545  19.964115\n",
       "2      1.0  0.0  1.000000  1.000000   5.259210  18.453678\n",
       "3      1.0  0.0  1.000000  1.000000   5.413251  19.445908\n",
       "4      1.0  0.0  1.000000  1.000000   5.208551  18.231111\n",
       "...    ...  ...       ...       ...        ...        ...\n",
       "17368  1.0  0.0  0.801657  0.733367  15.758989  22.829240\n",
       "17369  1.0  0.0  1.000000  1.000000  12.609995  21.774760\n",
       "17370  0.0  0.0  0.358874  0.358874  18.681711  23.545518\n",
       "17371  1.0  0.0  0.821765  0.821765  14.794725  22.519450\n",
       "17372  0.0  0.0  0.255674  0.255674  18.118045  23.436953\n",
       "\n",
       "[17373 rows x 6 columns]"
      ]
     },
     "execution_count": 18,
     "metadata": {},
     "output_type": "execute_result"
    }
   ],
   "source": [
    "mdp.as_df()[['u', 'c', 'soc', 'soc0', 'ts', 'tf']]"
   ]
  },
  {
   "cell_type": "code",
   "execution_count": null,
   "metadata": {},
   "outputs": [],
   "source": [
    "emcs.ts.as_df()"
   ]
  },
  {
   "cell_type": "code",
   "execution_count": null,
   "metadata": {},
   "outputs": [],
   "source": [
    "mdp.as_df()[['soc', 'soc0', 'sx', 'c', 'u']]"
   ]
  },
  {
   "cell_type": "code",
   "execution_count": null,
   "metadata": {},
   "outputs": [],
   "source": [
    "evs.MCS.ts.t"
   ]
  },
  {
   "cell_type": "code",
   "execution_count": null,
   "metadata": {},
   "outputs": [],
   "source": [
    "mdp.as_df()"
   ]
  },
  {
   "cell_type": "code",
   "execution_count": null,
   "metadata": {},
   "outputs": [],
   "source": []
  },
  {
   "cell_type": "code",
   "execution_count": null,
   "metadata": {},
   "outputs": [],
   "source": [
    "import numpy as np\n",
    "import pandas as pd\n",
    "\n"
   ]
  },
  {
   "cell_type": "code",
   "execution_count": null,
   "metadata": {},
   "outputs": [],
   "source": [
    "from tqdm import tqdm\n",
    "import sys\n",
    "import time\n",
    "import timeit"
   ]
  },
  {
   "cell_type": "code",
   "execution_count": null,
   "metadata": {},
   "outputs": [],
   "source": [
    "sys.version"
   ]
  },
  {
   "cell_type": "code",
   "execution_count": null,
   "metadata": {},
   "outputs": [],
   "source": [
    "evs_config = {'N': 50000, 'Ns': 20,\n",
    "              'Tagc': 4.0, 'socf': 0.2,\n",
    "              'agc': 0, 'ict': 0,\n",
    "              'memory_save': 1,\n",
    "              'seed': 2022, 'r': 0.5}\n",
    "\n",
    "mcs_config = {'ts': 18.0, 'h': 1.0,\n",
    "              'no_tqdm': 0, 'th': 1.0}\n",
    "\n",
    "nd_param = {'soci': {'mu': 0.3, 'var': 0.05, 'lb': 0.2, 'ub': 0.4},\n",
    "            'socd': {'mu': 0.8, 'var': 0.03, 'lb': 0.7, 'ub': 0.9},\n",
    "            'ts1': {'mu': -6.5, 'var': 3.4, 'lb': 0.0, 'ub': 5.5},\n",
    "            'ts2': {'mu': 17.5, 'var': 3.4, 'lb': 5.5, 'ub': 24.0},\n",
    "            'tf1': {'mu': 8.9, 'var': 3.4, 'lb': 0.0, 'ub': 20.9},\n",
    "            'tf2': {'mu': 32.9, 'var': 3.4, 'lb': 20.9, 'ub': 24.0},\n",
    "            'tt': {'mu': 0.5, 'var': 0.02, 'lb': 0, 'ub': 1}}\n",
    "\n",
    "ud_param = {'Pc': {'lb': 5.0, 'ub': 7.0},\n",
    "            'Pd': {'lb': 5.0, 'ub': 7.0},\n",
    "            'nc': {'lb': 0.88, 'ub': 0.95},\n",
    "            'nd': {'lb': 0.88, 'ub': 0.95},\n",
    "            'Q': {'lb': 20.0, 'ub': 30.0}}\n"
   ]
  },
  {
   "cell_type": "code",
   "execution_count": null,
   "metadata": {},
   "outputs": [],
   "source": [
    "import logging\n",
    "logger = logging.getLogger()\n",
    "logging.getLogger(\"eva\").setLevel(logging.INFO)"
   ]
  },
  {
   "cell_type": "code",
   "execution_count": null,
   "metadata": {},
   "outputs": [],
   "source": [
    "evs = EVStation(name='EVS1',\n",
    "                mcs_config=mcs_config,\n",
    "                config=evs_config,\n",
    "                ud_param=ud_param,\n",
    "                nd_param=nd_param)"
   ]
  },
  {
   "cell_type": "code",
   "execution_count": null,
   "metadata": {},
   "outputs": [],
   "source": [
    "evs.MCS.data.s.as_df()['soc0']"
   ]
  },
  {
   "cell_type": "code",
   "execution_count": null,
   "metadata": {},
   "outputs": [],
   "source": [
    "evs.MCS.data.d.as_df()"
   ]
  },
  {
   "cell_type": "code",
   "execution_count": null,
   "metadata": {},
   "outputs": [],
   "source": [
    "sdf = evs.MCS.data.s.as_df()\n",
    "sdf[sdf['tf'] < 18]"
   ]
  },
  {
   "cell_type": "code",
   "execution_count": null,
   "metadata": {},
   "outputs": [],
   "source": [
    "self = evs\n",
    "dsp = self.MCS.data.s  # pointer to static data\n",
    "ddp = self.MCS.data.d  # pointer to dynamic data\n",
    "\n",
    "mask_u1 = dsp.get(src='ts') > (self.MCS.config.ts + self.MCS.config.th)\n",
    "mask_u2 = dsp.get(src='tf') < self.MCS.config.ts\n",
    "mask = mask_u1 | mask_u2\n",
    "drop_id = np.where(mask)[0]\n",
    "\n",
    "for ary in [self.idx, self.MCS.data.idx, self.MCS.data.s.v, self.MCS.data.d.v]:\n",
    "    ary = np.delete(ary, drop_id, axis=0)\n",
    "\n",
    "getattr(self.MCS.data.s, 'idx')\n",
    "setattr(self.MCS.data.s, 'idx', np.delete(self.MCS.data.s.idx, drop_id, axis=0))"
   ]
  },
  {
   "cell_type": "code",
   "execution_count": null,
   "metadata": {},
   "outputs": [],
   "source": [
    "ary.shape"
   ]
  },
  {
   "cell_type": "code",
   "execution_count": null,
   "metadata": {},
   "outputs": [],
   "source": [
    "np.logical_and(mask_u1, mask_u2)"
   ]
  },
  {
   "cell_type": "code",
   "execution_count": null,
   "metadata": {},
   "outputs": [],
   "source": [
    "mask_u1"
   ]
  },
  {
   "cell_type": "code",
   "execution_count": null,
   "metadata": {},
   "outputs": [],
   "source": [
    "mask_u2"
   ]
  },
  {
   "cell_type": "code",
   "execution_count": null,
   "metadata": {},
   "outputs": [],
   "source": [
    "mask_u1 & mask_u2"
   ]
  },
  {
   "cell_type": "code",
   "execution_count": null,
   "metadata": {},
   "outputs": [],
   "source": [
    "evs.MCS.data.d.v.shape"
   ]
  },
  {
   "cell_type": "code",
   "execution_count": null,
   "metadata": {},
   "outputs": [],
   "source": [
    "evs.MCS.data.d.set('soc', cond=np.array([False]*49999 + [True]),\n",
    "                   data=np.array([1, 2]))\n",
    "evs.MCS.data.d.as_df()"
   ]
  },
  {
   "cell_type": "code",
   "execution_count": null,
   "metadata": {},
   "outputs": [],
   "source": [
    "evs.MCS.data.s.get('Pc', cond=np.array([True]*5))"
   ]
  },
  {
   "cell_type": "code",
   "execution_count": null,
   "metadata": {},
   "outputs": [],
   "source": [
    "evs.MCS.data.d.as_df()"
   ]
  },
  {
   "cell_type": "code",
   "execution_count": null,
   "metadata": {},
   "outputs": [],
   "source": [
    "evs.MCS.config.ts"
   ]
  },
  {
   "cell_type": "code",
   "execution_count": null,
   "metadata": {},
   "outputs": [],
   "source": [
    "dsp = evs.MCS.data.s.v\n",
    "mask = dsp[:, getattr(evs.MCS.data.col.s, 'ts')] < 0.3\n",
    "dsp[mask & mask].shape"
   ]
  },
  {
   "cell_type": "code",
   "execution_count": null,
   "metadata": {},
   "outputs": [],
   "source": [
    "evs.MCS.data.s.as_df()"
   ]
  },
  {
   "cell_type": "code",
   "execution_count": null,
   "metadata": {},
   "outputs": [],
   "source": [
    "\n",
    "dc = {'s': ['ts', 'tf', 'tt', 'soc0', 'na0',\n",
    "            'soci', 'socd', 'Pc', 'Pd',\n",
    "            'nc', 'nd', 'Q'],\n",
    "      'd': ['u', 'u0', 'soc', 'c', 'lc', 'sx',\n",
    "            'na', 'ama', 'agc', 'mod']}\n",
    "{\n",
    "'s': {c: dc['s'].index(c) for c in dc['s']},\n",
    "'d': {c: dc['d'].index(c) for c in dc['d']}\n",
    "}\n",
    "\n",
    "from eva import DictAttr\n",
    "sd = DictAttr({c: dc['s'].index(c) for c in dc['s']})\n",
    "dd = DictAttr({c: dc['d'].index(c) for c in dc['d']})\n",
    "dcd = DictAttr({'s': sd, 'd': dd})"
   ]
  },
  {
   "cell_type": "code",
   "execution_count": null,
   "metadata": {},
   "outputs": [],
   "source": [
    "np.empty(100, 100)"
   ]
  },
  {
   "cell_type": "code",
   "execution_count": null,
   "metadata": {},
   "outputs": [],
   "source": [
    "np.arange(50000).shape"
   ]
  },
  {
   "cell_type": "code",
   "execution_count": null,
   "metadata": {},
   "outputs": [],
   "source": [
    "%%timeit -r 100 -n 10\n",
    "dcd.s.Pc"
   ]
  },
  {
   "cell_type": "code",
   "execution_count": null,
   "metadata": {},
   "outputs": [],
   "source": [
    "dcd.d.u0"
   ]
  },
  {
   "cell_type": "code",
   "execution_count": null,
   "metadata": {},
   "outputs": [],
   "source": [
    "xdf = evs.MCS.data.d.copy()\n",
    "xsf = evs.MCS.data.s.copy()"
   ]
  },
  {
   "cell_type": "code",
   "execution_count": null,
   "metadata": {},
   "outputs": [],
   "source": [
    "%%timeit -r 20 -n 20\n",
    "xdf['u'] * xdf['c'] * xsf['Pc'] * xsf['nc'] * 1/3600"
   ]
  },
  {
   "cell_type": "code",
   "execution_count": null,
   "metadata": {},
   "outputs": [],
   "source": [
    "xdf.columns"
   ]
  },
  {
   "cell_type": "code",
   "execution_count": null,
   "metadata": {},
   "outputs": [],
   "source": [
    "xsf.columns"
   ]
  },
  {
   "cell_type": "code",
   "execution_count": null,
   "metadata": {},
   "outputs": [],
   "source": [
    "xd = evs.MCS.data.d.values\n",
    "xs = evs.MCS.data.s.values"
   ]
  },
  {
   "cell_type": "code",
   "execution_count": null,
   "metadata": {},
   "outputs": [],
   "source": [
    "%%timeit -r 20 -n 20\n",
    "xd[:, 1] * xd[:, 4] * xs[:, 8] * xs[:, 10] * 1/3600"
   ]
  },
  {
   "cell_type": "code",
   "execution_count": null,
   "metadata": {},
   "outputs": [],
   "source": [
    "evs = EVStation(name='EVS1',\n",
    "                mcs_config=mcs_config,\n",
    "                config=evs_config,\n",
    "                ud_param=ud_param,\n",
    "                nd_param=nd_param)\n",
    "\n",
    "evs.MCS.config.tf = 3600\n",
    "evs.MCS.config.no_tqdm = 0\n",
    "evs.MCS.run()\n",
    "evs.MCS.data\n",
    "evs.MCS.data.d.info(verbose=False, memory_usage=True)"
   ]
  }
 ],
 "metadata": {
  "kernelspec": {
   "display_name": "Python 3.9.12 ('andes')",
   "language": "python",
   "name": "python3"
  },
  "language_info": {
   "codemirror_mode": {
    "name": "ipython",
    "version": 3
   },
   "file_extension": ".py",
   "mimetype": "text/x-python",
   "name": "python",
   "nbconvert_exporter": "python",
   "pygments_lexer": "ipython3",
   "version": "3.9.12"
  },
  "orig_nbformat": 4,
  "vscode": {
   "interpreter": {
    "hash": "ef6cb5c8d99d66a3614f491d51fd40cd94c9138687df3d2045e3a510da5efc66"
   }
  }
 },
 "nbformat": 4,
 "nbformat_minor": 2
}
